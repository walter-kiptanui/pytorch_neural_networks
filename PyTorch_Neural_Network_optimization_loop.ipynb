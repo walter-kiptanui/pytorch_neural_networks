{
  "nbformat": 4,
  "nbformat_minor": 0,
  "metadata": {
    "colab": {
      "provenance": []
    },
    "kernelspec": {
      "name": "python3",
      "display_name": "Python 3"
    },
    "language_info": {
      "name": "python"
    }
  },
  "cells": [
    {
      "cell_type": "code",
      "execution_count": null,
      "metadata": {
        "id": "OE27S_MLCzXQ"
      },
      "outputs": [],
      "source": [
        "import torch\n",
        "from torch import nn\n",
        "from torch.utils.data import Dataloader, Dataset\n",
        "import os"
      ]
    },
    {
      "cell_type": "code",
      "source": [
        "train_dataset = data.FashionMNIST(\n",
        "    root = \"data\"\n",
        "    Download = True,\n",
        "    train  = True,\n",
        "    transform = ToTensor()\n",
        ")\n",
        "\n",
        "\n",
        "test_dataset = data.FashionMNIST(\n",
        "    root = \"data\"\n",
        "    download = True\n",
        "    train = False\n",
        "    transform = ToTensor()\n",
        ")"
      ],
      "metadata": {
        "id": "_l5HG9qQCtOo"
      },
      "execution_count": null,
      "outputs": []
    },
    {
      "cell_type": "markdown",
      "source": [
        "Defining the parameters of the dataloaders"
      ],
      "metadata": {
        "id": "JjDGrbUZXazN"
      }
    },
    {
      "cell_type": "code",
      "source": [
        "train_loader = Dataloader(train_dataset, batch = 64, shuffle = True)\n",
        "test-dataloader = Dataloader(test_dataset, batch = 64, shiffle = True)"
      ],
      "metadata": {
        "id": "kzE0KpLJXiiB"
      },
      "execution_count": null,
      "outputs": []
    },
    {
      "cell_type": "markdown",
      "source": [
        "Building the Neural Network Layers"
      ],
      "metadata": {
        "id": "bHASDb5IZPNu"
      }
    },
    {
      "cell_type": "code",
      "source": [
        "class NeuralNetwork(nn.Module):\n",
        "  def __init__(self):\n",
        "    super(NeuralNetwork, self).__init__()\n",
        "    self.flatten = nn.flatten()\n",
        "    self.linear_relu = nn.Sequential(\n",
        "        nn.Linear(28*28, 512),\n",
        "        nn.ReLU(),\n",
        "        nn.Linear(512, 512),\n",
        "        nn.ReLU(),\n",
        "        nn.Linear()\n",
        "    )\n",
        "    def forward(self, x):\n",
        "      x = self.flatten(x)\n",
        "      logits = self.linear_relu(x)\n",
        "      return logits"
      ],
      "metadata": {
        "id": "eD49moM3DiRE"
      },
      "execution_count": null,
      "outputs": []
    },
    {
      "cell_type": "markdown",
      "source": [
        "The training loop"
      ],
      "metadata": {
        "id": "NT1gR7scbu-M"
      }
    },
    {
      "cell_type": "code",
      "source": [
        "def training_loop(dataloader, model, optimizer, loss_function):\n",
        "  size = len(dataloader.dataset)\n",
        "\n",
        "  for batch, (x,y) in enumerate(dataloader):\n",
        "    prediction = model(x)\n",
        "    loss = loss_function(prediction, y)\n",
        "\n",
        "    optimizer.zero_grad()\n",
        "    loss.backwards()\n",
        "    optimizer.step()\n",
        "\n",
        "    if batch % 100 == 0:\n",
        "      current_loss, at_sample = loss.item(), batch*len(dataloader)\n",
        "      print(f\"curentloss {current_loss:>f} of sample {at_sample:>f}\")\n",
        "\n",
        "def test_loop(dataloader, model, loss_function):\n",
        "  size = len(dataloader.dataset)\n",
        "  for x,y in enumerate(dataloader):\n",
        "    prediction = model(x)\n",
        "    loss = loss_function(prediction, y)\n",
        "    current, correct = 0,0\n",
        "\n",
        "\n",
        "    current += loss.item()\n",
        "    correct += (predictions == y)(torch.dytpe = float).sum().item()\n",
        "\n"
      ],
      "metadata": {
        "id": "TIkkYjrsa3II"
      },
      "execution_count": null,
      "outputs": []
    }
  ]
}