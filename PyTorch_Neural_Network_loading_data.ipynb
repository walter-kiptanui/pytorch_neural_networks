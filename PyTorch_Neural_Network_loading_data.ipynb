{
  "nbformat": 4,
  "nbformat_minor": 0,
  "metadata": {
    "colab": {
      "provenance": []
    },
    "kernelspec": {
      "name": "python3",
      "display_name": "Python 3"
    },
    "language_info": {
      "name": "python"
    }
  },
  "cells": [
    {
      "cell_type": "code",
      "execution_count": null,
      "metadata": {
        "id": "OE27S_MLCzXQ"
      },
      "outputs": [],
      "source": [
        "import torch\n",
        "from torch import nn\n",
        "from torch.utils.data import Dataloader, Dataset\n",
        "import os"
      ]
    },
    {
      "cell_type": "code",
      "source": [
        "train_dataset = data.FashionMNIST(\n",
        "    Download = True,\n",
        "    Train  = True,\n",
        ")\n",
        "\n",
        "\n",
        "test_dataset = data.FashionMNIST(\n",
        "    Download = True\n",
        "    Train = False\n",
        "\n",
        ")"
      ],
      "metadata": {
        "id": "_l5HG9qQCtOo"
      },
      "execution_count": null,
      "outputs": []
    },
    {
      "cell_type": "code",
      "source": [
        "class NeuralNetwork(nn.Module):\n",
        "  def __init__(self):\n",
        "    super(NeuralNetwork, self).__init__()\n",
        "    self.flatten = nn.flatten()\n",
        "    self.linear_relu = nn.Sequential(\n",
        "        nn.Linear(28*28, 512),\n",
        "        nn.ReLU(),\n",
        "        nn.Linear(512, 512),\n",
        "        nn.ReLU(),\n",
        "        nn.Linear()\n",
        "    )\n"
      ],
      "metadata": {
        "id": "eD49moM3DiRE"
      },
      "execution_count": null,
      "outputs": []
    }
  ]
}